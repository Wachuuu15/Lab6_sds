{
 "cells": [
  {
   "cell_type": "markdown",
   "metadata": {},
   "source": [
    "## Laboratorio #6  – Análisis de tráfico de red"
   ]
  },
  {
   "cell_type": "markdown",
   "metadata": {},
   "source": [
    "### Objetivos\n",
    "Aplicar los conocimientos sobre redes de computadoras en el análisis estadístico de tráfico de \n",
    "red, para detectar anomalías en el comportamiento de la red. "
   ]
  },
  {
   "cell_type": "markdown",
   "metadata": {},
   "source": [
    "### Desarrollo \n",
    "Para este ejercicio se utilizará el archivo analisis_paquetes.pcap, disponible en CANVAS. Trabaje el laboratorio en un jupyter notebook."
   ]
  },
  {
   "cell_type": "code",
   "execution_count": 2,
   "metadata": {},
   "outputs": [
    {
     "name": "stdout",
     "output_type": "stream",
     "text": [
      "Collecting scapy\n",
      "  Downloading scapy-2.6.1-py3-none-any.whl.metadata (5.6 kB)\n",
      "Downloading scapy-2.6.1-py3-none-any.whl (2.4 MB)\n",
      "   ---------------------------------------- 0.0/2.4 MB ? eta -:--:--\n",
      "   --------------------- ------------------ 1.3/2.4 MB 8.4 MB/s eta 0:00:01\n",
      "   -------------------------------------- - 2.4/2.4 MB 7.5 MB/s eta 0:00:01\n",
      "   ---------------------------------------- 2.4/2.4 MB 6.6 MB/s eta 0:00:00\n",
      "Installing collected packages: scapy\n",
      "Successfully installed scapy-2.6.1\n",
      "Note: you may need to restart the kernel to use updated packages.\n"
     ]
    },
    {
     "name": "stderr",
     "output_type": "stream",
     "text": [
      "\n",
      "[notice] A new release of pip is available: 24.2 -> 25.0.1\n",
      "[notice] To update, run: python.exe -m pip install --upgrade pip\n"
     ]
    }
   ],
   "source": [
    "pip install scapy"
   ]
  },
  {
   "cell_type": "code",
   "execution_count": null,
   "metadata": {},
   "outputs": [
    {
     "name": "stderr",
     "output_type": "stream",
     "text": [
      "WARNING: No libpcap provider available ! pcap won't be used\n"
     ]
    },
    {
     "name": "stdout",
     "output_type": "stream",
     "text": [
      "¡Scapy se instaló correctamente!\n"
     ]
    }
   ],
   "source": [
    "from scapy.all import *"
   ]
  },
  {
   "cell_type": "code",
   "execution_count": 4,
   "metadata": {},
   "outputs": [],
   "source": [
    "from scapy.all import *\n",
    "import pandas as pd"
   ]
  },
  {
   "cell_type": "code",
   "execution_count": 6,
   "metadata": {},
   "outputs": [
    {
     "name": "stdout",
     "output_type": "stream",
     "text": [
      "Source   Index  Name                                                                                    MAC                IPv4             IPv6                     \n",
      "libpcap  1      Software Loopback Interface 1                                                                              127.0.0.1        ::1                      \n",
      "libpcap  10     WAN Miniport (SSTP)                                                                                                                                  \n",
      "libpcap  11     Microsoft Wi-Fi Direct Virtual Adapter #7                                               Intel:8c:a2:ae     169.254.107.82   fe80::2ba3:9966:f591:a48e\n",
      "libpcap  12     Bluetooth Device (Personal Area Network) #3                                                                                                          \n",
      "libpcap  13     WAN Miniport (PPTP)                                                                                                                                  \n",
      "libpcap  14     Microsoft Teredo Tunneling Adapter                                                                                                                   \n",
      "libpcap  15     Bluetooth Device (Personal Area Network) #5                                             Intel:8c:a2:b1     169.254.207.131  fe80::c807:9c11:7b8a:bb28\n",
      "libpcap  16     Bluetooth Device (Personal Area Network) #2                                                                                                          \n",
      "libpcap  17     Realtek PCIe GbE Family Controller                                                      HP:13:27:90        169.254.153.127  fe80::f81c:dbc0:1781:e53f\n",
      "libpcap  18     Microsoft Wi-Fi Direct Virtual Adapter #3                                                                                                            \n",
      "libpcap  19     VirtualBox Host-Only Ethernet Adapter                                                                                                                \n",
      "libpcap  2      Microsoft 6to4 Adapter                                                                                                                               \n",
      "libpcap  20     WAN Miniport (IPv6)                                                                                                                                  \n",
      "libpcap  21     WAN Miniport (IKEv2)                                                                                                                                 \n",
      "libpcap  22     Microsoft Wi-Fi Direct Virtual Adapter #4                                                                                                            \n",
      "libpcap  23     WAN Miniport (PPPOE)                                                                                                                                 \n",
      "libpcap  24     WAN Miniport (IP)                                                                                                                                    \n",
      "libpcap  25     VirtualBox Host-Only Ethernet Adapter                                                                                                                \n",
      "libpcap  26     Kaspersky VPN                                                                                              169.254.212.67   fe80::efb0:a094:b907:f956\n",
      "libpcap  27     VirtualBox Host-Only Ethernet Adapter                                                                                                                \n",
      "libpcap  28     Microsoft Wi-Fi Direct Virtual Adapter #5                                                                                                            \n",
      "libpcap  29     Microsoft Wi-Fi Direct Virtual Adapter #2                                                                                                            \n",
      "libpcap  3      WAN Miniport (L2TP)                                                                                                                                  \n",
      "libpcap  30     Microsoft Kernel Debug Network Adapter                                                                                                               \n",
      "libpcap  31     Microsoft Wi-Fi Direct Virtual Adapter                                                                                                               \n",
      "libpcap  32     Microsoft Wi-Fi Direct Virtual Adapter #8                                               ae:12:03:8c:a2:ad  169.254.170.196  fe80::a414:65ed:501f:9f2c\n",
      "libpcap  33     Kaspersky VPN-Kaspersky Lab NDIS 6 Filter-0000                                                                                                       \n",
      "libpcap  34     Realtek PCIe GbE Family Controller-WFP Native MAC Layer LightWeight Filter-0000         HP:13:27:90                                                  \n",
      "libpcap  35     Realtek PCIe GbE Family Controller-Kaspersky Lab NDIS 6 Filter-0000                     HP:13:27:90                                                  \n",
      "libpcap  36     Realtek PCIe GbE Family Controller-QoS Packet Scheduler-0000                            HP:13:27:90                                                  \n",
      "libpcap  37     Realtek PCIe GbE Family Controller-WFP 802.3 MAC Layer LightWeight Filter-0000          HP:13:27:90                                                  \n",
      "libpcap  38     Bluetooth Device (Personal Area Network) #5-Kaspersky Lab NDIS 6 Filter-0000            Intel:8c:a2:b1                                               \n",
      "libpcap  39     Intel(R) Wi-Fi 6 AX201 160MHz-WFP Native MAC Layer LightWeight Filter-0000              Intel:8c:a2:ad                                               \n",
      "libpcap  4      Microsoft Wi-Fi Direct Virtual Adapter #6                                                                                                            \n",
      "libpcap  40     Intel(R) Wi-Fi 6 AX201 160MHz-Virtual WiFi Filter Driver-0000                           Intel:8c:a2:ad                                               \n",
      "libpcap  41     Intel(R) Wi-Fi 6 AX201 160MHz-Native WiFi Filter Driver-0000                            Intel:8c:a2:ad                                               \n",
      "libpcap  42     Intel(R) Wi-Fi 6 AX201 160MHz-Kaspersky Lab NDIS 6 Filter-0000                          Intel:8c:a2:ad                                               \n",
      "libpcap  43     Intel(R) Wi-Fi 6 AX201 160MHz-QoS Packet Scheduler-0000                                 Intel:8c:a2:ad                                               \n",
      "libpcap  44     Intel(R) Wi-Fi 6 AX201 160MHz-WFP 802.3 MAC Layer LightWeight Filter-0000               Intel:8c:a2:ad                                               \n",
      "libpcap  45     Microsoft Wi-Fi Direct Virtual Adapter #7-WFP Native MAC Layer LightWeight Filter-0000  Intel:8c:a2:ae                                               \n",
      "libpcap  46     Microsoft Wi-Fi Direct Virtual Adapter #7-Native WiFi Filter Driver-0000                Intel:8c:a2:ae                                               \n",
      "libpcap  47     WAN Miniport (IP)-WFP Native MAC Layer LightWeight Filter-0000                                                                                       \n",
      "libpcap  48     WAN Miniport (IP)-Kaspersky Lab NDIS 6 Filter-0000                                                                                                   \n",
      "libpcap  49     WAN Miniport (IP)-QoS Packet Scheduler-0000                                                                                                          \n",
      "libpcap  5      Bluetooth Device (Personal Area Network)                                                                                                             \n",
      "libpcap  50     WAN Miniport (IPv6)-WFP Native MAC Layer LightWeight Filter-0000                                                                                     \n",
      "libpcap  51     WAN Miniport (IPv6)-Kaspersky Lab NDIS 6 Filter-0000                                                                                                 \n",
      "libpcap  52     WAN Miniport (IPv6)-QoS Packet Scheduler-0000                                                                                                        \n",
      "libpcap  53     WAN Miniport (Network Monitor)-WFP Native MAC Layer LightWeight Filter-0000                                                                          \n",
      "libpcap  54     WAN Miniport (Network Monitor)-Kaspersky Lab NDIS 6 Filter-0000                                                                                      \n",
      "libpcap  55     WAN Miniport (Network Monitor)-QoS Packet Scheduler-0000                                                                                             \n",
      "libpcap  56     Microsoft Wi-Fi Direct Virtual Adapter #7-Kaspersky Lab NDIS 6 Filter-0000              Intel:8c:a2:ae                                               \n",
      "libpcap  57     Microsoft Wi-Fi Direct Virtual Adapter #7-QoS Packet Scheduler-0000                     Intel:8c:a2:ae                                               \n",
      "libpcap  58     Microsoft Wi-Fi Direct Virtual Adapter #7-WFP 802.3 MAC Layer LightWeight Filter-0000   Intel:8c:a2:ae                                               \n",
      "libpcap  59     Microsoft Wi-Fi Direct Virtual Adapter #8-WFP Native MAC Layer LightWeight Filter-0000  ae:12:03:8c:a2:ad                                            \n",
      "libpcap  6      Microsoft IP-HTTPS Platform Adapter                                                                                                                  \n",
      "libpcap  60     Microsoft Wi-Fi Direct Virtual Adapter #8-Native WiFi Filter Driver-0000                ae:12:03:8c:a2:ad                                            \n",
      "libpcap  61     Microsoft Wi-Fi Direct Virtual Adapter #8-Kaspersky Lab NDIS 6 Filter-0000              ae:12:03:8c:a2:ad                                            \n",
      "libpcap  62     Microsoft Wi-Fi Direct Virtual Adapter #8-QoS Packet Scheduler-0000                     ae:12:03:8c:a2:ad                                            \n",
      "libpcap  63     Microsoft Wi-Fi Direct Virtual Adapter #8-WFP 802.3 MAC Layer LightWeight Filter-0000   ae:12:03:8c:a2:ad                                            \n",
      "libpcap  7      Intel(R) Wi-Fi 6 AX201 160MHz                                                           Intel:8c:a2:ad     10.100.17.154    fe80::69b0:faaf:2eaf:20e0\n",
      "libpcap  8      Bluetooth Device (Personal Area Network) #4                                                                                                          \n",
      "libpcap  9      WAN Miniport (Network Monitor)                                                                                                                       \n"
     ]
    }
   ],
   "source": [
    "from scapy.all import *\n",
    "print(conf.ifaces)"
   ]
  },
  {
   "cell_type": "code",
   "execution_count": 7,
   "metadata": {},
   "outputs": [],
   "source": [
    "# Usa el nombre EXACTO de la interfaz (cópialo de tu lista)\n",
    "iface_correcta = \"Intel(R) Wi-Fi 6 AX201 160MHz\""
   ]
  },
  {
   "cell_type": "code",
   "execution_count": 10,
   "metadata": {},
   "outputs": [
    {
     "ename": "RuntimeError",
     "evalue": "Sniffing and sending packets is not available at layer 2: winpcap is not installed. You may use conf.L3socket or conf.L3socket6 to access layer 3",
     "output_type": "error",
     "traceback": [
      "\u001b[1;31m---------------------------------------------------------------------------\u001b[0m",
      "\u001b[1;31mRuntimeError\u001b[0m                              Traceback (most recent call last)",
      "Cell \u001b[1;32mIn[10], line 1\u001b[0m\n\u001b[1;32m----> 1\u001b[0m paquetes \u001b[38;5;241m=\u001b[39m \u001b[43msniff\u001b[49m\u001b[43m(\u001b[49m\u001b[43mcount\u001b[49m\u001b[38;5;241;43m=\u001b[39;49m\u001b[38;5;241;43m25\u001b[39;49m\u001b[43m)\u001b[49m  \u001b[38;5;66;03m# ¡Sin especificar iface!\u001b[39;00m\n",
      "File \u001b[1;32mc:\\Users\\jenni\\AppData\\Local\\Programs\\Python\\Python311\\Lib\\site-packages\\scapy\\sendrecv.py:1424\u001b[0m, in \u001b[0;36msniff\u001b[1;34m(*args, **kwargs)\u001b[0m\n\u001b[0;32m   1420\u001b[0m \u001b[38;5;129m@conf\u001b[39m\u001b[38;5;241m.\u001b[39mcommands\u001b[38;5;241m.\u001b[39mregister\n\u001b[0;32m   1421\u001b[0m \u001b[38;5;28;01mdef\u001b[39;00m \u001b[38;5;21msniff\u001b[39m(\u001b[38;5;241m*\u001b[39margs, \u001b[38;5;241m*\u001b[39m\u001b[38;5;241m*\u001b[39mkwargs):\n\u001b[0;32m   1422\u001b[0m     \u001b[38;5;66;03m# type: (*Any, **Any) -> PacketList\u001b[39;00m\n\u001b[0;32m   1423\u001b[0m     sniffer \u001b[38;5;241m=\u001b[39m AsyncSniffer()\n\u001b[1;32m-> 1424\u001b[0m     \u001b[43msniffer\u001b[49m\u001b[38;5;241;43m.\u001b[39;49m\u001b[43m_run\u001b[49m\u001b[43m(\u001b[49m\u001b[38;5;241;43m*\u001b[39;49m\u001b[43margs\u001b[49m\u001b[43m,\u001b[49m\u001b[43m \u001b[49m\u001b[38;5;241;43m*\u001b[39;49m\u001b[38;5;241;43m*\u001b[39;49m\u001b[43mkwargs\u001b[49m\u001b[43m)\u001b[49m\n\u001b[0;32m   1425\u001b[0m     \u001b[38;5;28;01mreturn\u001b[39;00m cast(PacketList, sniffer\u001b[38;5;241m.\u001b[39mresults)\n",
      "File \u001b[1;32mc:\\Users\\jenni\\AppData\\Local\\Programs\\Python\\Python311\\Lib\\site-packages\\scapy\\sendrecv.py:1273\u001b[0m, in \u001b[0;36mAsyncSniffer._run\u001b[1;34m(self, count, store, offline, quiet, prn, lfilter, L2socket, timeout, opened_socket, stop_filter, iface, started_callback, session, chainCC, **karg)\u001b[0m\n\u001b[0;32m   1271\u001b[0m     \u001b[38;5;28;01melse\u001b[39;00m:\n\u001b[0;32m   1272\u001b[0m         iface \u001b[38;5;241m=\u001b[39m iface \u001b[38;5;129;01mor\u001b[39;00m conf\u001b[38;5;241m.\u001b[39miface\n\u001b[1;32m-> 1273\u001b[0m         sniff_sockets[\u001b[43m_RL2\u001b[49m\u001b[43m(\u001b[49m\u001b[43miface\u001b[49m\u001b[43m)\u001b[49m\u001b[43m(\u001b[49m\u001b[38;5;28;43mtype\u001b[39;49m\u001b[38;5;241;43m=\u001b[39;49m\u001b[43mETH_P_ALL\u001b[49m\u001b[43m,\u001b[49m\u001b[43m \u001b[49m\u001b[43miface\u001b[49m\u001b[38;5;241;43m=\u001b[39;49m\u001b[43miface\u001b[49m\u001b[43m,\u001b[49m\n\u001b[0;32m   1274\u001b[0m \u001b[43m                                  \u001b[49m\u001b[38;5;241;43m*\u001b[39;49m\u001b[38;5;241;43m*\u001b[39;49m\u001b[43mkarg\u001b[49m\u001b[43m)\u001b[49m] \u001b[38;5;241m=\u001b[39m iface\n\u001b[0;32m   1276\u001b[0m \u001b[38;5;66;03m# Get select information from the sockets\u001b[39;00m\n\u001b[0;32m   1277\u001b[0m _main_socket \u001b[38;5;241m=\u001b[39m \u001b[38;5;28mnext\u001b[39m(\u001b[38;5;28miter\u001b[39m(sniff_sockets))\n",
      "File \u001b[1;32mc:\\Users\\jenni\\AppData\\Local\\Programs\\Python\\Python311\\Lib\\site-packages\\scapy\\arch\\windows\\__init__.py:1027\u001b[0m, in \u001b[0;36m_NotAvailableSocket.__init__\u001b[1;34m(self, *args, **kargs)\u001b[0m\n\u001b[0;32m   1025\u001b[0m \u001b[38;5;28;01mdef\u001b[39;00m \u001b[38;5;21m__init__\u001b[39m(\u001b[38;5;28mself\u001b[39m, \u001b[38;5;241m*\u001b[39margs, \u001b[38;5;241m*\u001b[39m\u001b[38;5;241m*\u001b[39mkargs):\n\u001b[0;32m   1026\u001b[0m     \u001b[38;5;66;03m# type: (*Any, **Any) -> None\u001b[39;00m\n\u001b[1;32m-> 1027\u001b[0m     \u001b[38;5;28;01mraise\u001b[39;00m \u001b[38;5;167;01mRuntimeError\u001b[39;00m(\n\u001b[0;32m   1028\u001b[0m         \u001b[38;5;124m\"\u001b[39m\u001b[38;5;124mSniffing and sending packets is not available at layer 2: \u001b[39m\u001b[38;5;124m\"\u001b[39m\n\u001b[0;32m   1029\u001b[0m         \u001b[38;5;124m\"\u001b[39m\u001b[38;5;124mwinpcap is not installed. You may use conf.L3socket or \u001b[39m\u001b[38;5;124m\"\u001b[39m\n\u001b[0;32m   1030\u001b[0m         \u001b[38;5;124m\"\u001b[39m\u001b[38;5;124mconf.L3socket6 to access layer 3\u001b[39m\u001b[38;5;124m\"\u001b[39m\n\u001b[0;32m   1031\u001b[0m     )\n",
      "\u001b[1;31mRuntimeError\u001b[0m: Sniffing and sending packets is not available at layer 2: winpcap is not installed. You may use conf.L3socket or conf.L3socket6 to access layer 3"
     ]
    }
   ],
   "source": [
    "paquetes = sniff(count=25)  # ¡Sin especificar iface!"
   ]
  },
  {
   "cell_type": "code",
   "execution_count": null,
   "metadata": {},
   "outputs": [],
   "source": [
    "# Verificar\n",
    "print(f\"Paquetes capturados: {len(paquetes)}\")\n",
    "print(\"Ejemplo del primer paquete:\")\n",
    "print(paquetes[0].summary())"
   ]
  }
 ],
 "metadata": {
  "kernelspec": {
   "display_name": "Python 3",
   "language": "python",
   "name": "python3"
  },
  "language_info": {
   "codemirror_mode": {
    "name": "ipython",
    "version": 3
   },
   "file_extension": ".py",
   "mimetype": "text/x-python",
   "name": "python",
   "nbconvert_exporter": "python",
   "pygments_lexer": "ipython3",
   "version": "3.11.8"
  }
 },
 "nbformat": 4,
 "nbformat_minor": 2
}
